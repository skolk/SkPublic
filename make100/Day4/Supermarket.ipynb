{
 "cells": [
  {
   "cell_type": "code",
   "execution_count": 1,
   "metadata": {
    "collapsed": false
   },
   "outputs": [
    {
     "data": {
      "text/plain": [
       "['.DS_Store',\n",
       " 'Untitled.ipynb',\n",
       " 'supermarkets.csv',\n",
       " 'README.md',\n",
       " 'supermarkets.xlsx',\n",
       " '.ipynb_checkpoints',\n",
       " 'supermarkets-commas.txt']"
      ]
     },
     "execution_count": 1,
     "metadata": {},
     "output_type": "execute_result"
    }
   ],
   "source": [
    "import os\n",
    "os.listdir()"
   ]
  },
  {
   "cell_type": "code",
   "execution_count": 2,
   "metadata": {
    "collapsed": true
   },
   "outputs": [],
   "source": [
    "import pandas\n"
   ]
  },
  {
   "cell_type": "code",
   "execution_count": 4,
   "metadata": {
    "collapsed": false
   },
   "outputs": [
    {
     "data": {
      "text/html": [
       "<div>\n",
       "<table border=\"1\" class=\"dataframe\">\n",
       "  <thead>\n",
       "    <tr style=\"text-align: right;\">\n",
       "      <th></th>\n",
       "      <th>Address</th>\n",
       "      <th>City</th>\n",
       "      <th>State</th>\n",
       "      <th>Country</th>\n",
       "      <th>Name</th>\n",
       "      <th>Employees</th>\n",
       "    </tr>\n",
       "    <tr>\n",
       "      <th>ID</th>\n",
       "      <th></th>\n",
       "      <th></th>\n",
       "      <th></th>\n",
       "      <th></th>\n",
       "      <th></th>\n",
       "      <th></th>\n",
       "    </tr>\n",
       "  </thead>\n",
       "  <tbody>\n",
       "    <tr>\n",
       "      <th>1</th>\n",
       "      <td>3666 21st St</td>\n",
       "      <td>San Francisco</td>\n",
       "      <td>CA 94114</td>\n",
       "      <td>USA</td>\n",
       "      <td>Madeira</td>\n",
       "      <td>8</td>\n",
       "    </tr>\n",
       "    <tr>\n",
       "      <th>2</th>\n",
       "      <td>735 Dolores St</td>\n",
       "      <td>San Francisco</td>\n",
       "      <td>CA 94119</td>\n",
       "      <td>USA</td>\n",
       "      <td>Bready Shop</td>\n",
       "      <td>15</td>\n",
       "    </tr>\n",
       "    <tr>\n",
       "      <th>3</th>\n",
       "      <td>332 Hill St</td>\n",
       "      <td>San Francisco</td>\n",
       "      <td>California 94114</td>\n",
       "      <td>USA</td>\n",
       "      <td>Super River</td>\n",
       "      <td>25</td>\n",
       "    </tr>\n",
       "    <tr>\n",
       "      <th>4</th>\n",
       "      <td>3995 23rd St</td>\n",
       "      <td>San Francisco</td>\n",
       "      <td>CA 94114</td>\n",
       "      <td>USA</td>\n",
       "      <td>Ben's Shop</td>\n",
       "      <td>10</td>\n",
       "    </tr>\n",
       "    <tr>\n",
       "      <th>5</th>\n",
       "      <td>1056 Sanchez St</td>\n",
       "      <td>San Francisco</td>\n",
       "      <td>California</td>\n",
       "      <td>USA</td>\n",
       "      <td>Sanchez</td>\n",
       "      <td>12</td>\n",
       "    </tr>\n",
       "    <tr>\n",
       "      <th>6</th>\n",
       "      <td>551 Alvarado St</td>\n",
       "      <td>San Francisco</td>\n",
       "      <td>CA 94114</td>\n",
       "      <td>USA</td>\n",
       "      <td>Richvalley</td>\n",
       "      <td>20</td>\n",
       "    </tr>\n",
       "  </tbody>\n",
       "</table>\n",
       "</div>"
      ],
      "text/plain": [
       "            Address           City             State Country         Name  \\\n",
       "ID                                                                          \n",
       "1      3666 21st St  San Francisco          CA 94114     USA      Madeira   \n",
       "2    735 Dolores St  San Francisco          CA 94119     USA  Bready Shop   \n",
       "3       332 Hill St  San Francisco  California 94114     USA  Super River   \n",
       "4      3995 23rd St  San Francisco          CA 94114     USA   Ben's Shop   \n",
       "5   1056 Sanchez St  San Francisco        California     USA      Sanchez   \n",
       "6   551 Alvarado St  San Francisco          CA 94114     USA   Richvalley   \n",
       "\n",
       "    Employees  \n",
       "ID             \n",
       "1           8  \n",
       "2          15  \n",
       "3          25  \n",
       "4          10  \n",
       "5          12  \n",
       "6          20  "
      ]
     },
     "execution_count": 4,
     "metadata": {},
     "output_type": "execute_result"
    }
   ],
   "source": [
    "df1=pandas.read_csv(\"supermarkets.csv\")\n",
    "df1.set_index(\"ID\")"
   ]
  },
  {
   "cell_type": "code",
   "execution_count": 10,
   "metadata": {
    "collapsed": false
   },
   "outputs": [
    {
     "data": {
      "text/html": [
       "<div>\n",
       "<table border=\"1\" class=\"dataframe\">\n",
       "  <thead>\n",
       "    <tr style=\"text-align: right;\">\n",
       "      <th></th>\n",
       "      <th>Address</th>\n",
       "      <th>City</th>\n",
       "      <th>Country</th>\n",
       "      <th>Employees</th>\n",
       "      <th>Name</th>\n",
       "      <th>State</th>\n",
       "    </tr>\n",
       "    <tr>\n",
       "      <th>ID</th>\n",
       "      <th></th>\n",
       "      <th></th>\n",
       "      <th></th>\n",
       "      <th></th>\n",
       "      <th></th>\n",
       "      <th></th>\n",
       "    </tr>\n",
       "  </thead>\n",
       "  <tbody>\n",
       "    <tr>\n",
       "      <th>1</th>\n",
       "      <td>3666 21st St</td>\n",
       "      <td>San Francisco</td>\n",
       "      <td>USA</td>\n",
       "      <td>8</td>\n",
       "      <td>Madeira</td>\n",
       "      <td>CA 94114</td>\n",
       "    </tr>\n",
       "    <tr>\n",
       "      <th>2</th>\n",
       "      <td>735 Dolores St</td>\n",
       "      <td>San Francisco</td>\n",
       "      <td>USA</td>\n",
       "      <td>15</td>\n",
       "      <td>Bready Shop</td>\n",
       "      <td>CA 94119</td>\n",
       "    </tr>\n",
       "    <tr>\n",
       "      <th>3</th>\n",
       "      <td>332 Hill St</td>\n",
       "      <td>San Francisco</td>\n",
       "      <td>USA</td>\n",
       "      <td>25</td>\n",
       "      <td>Super River</td>\n",
       "      <td>California 94114</td>\n",
       "    </tr>\n",
       "    <tr>\n",
       "      <th>4</th>\n",
       "      <td>3995 23rd St</td>\n",
       "      <td>San Francisco</td>\n",
       "      <td>USA</td>\n",
       "      <td>10</td>\n",
       "      <td>Ben's Shop</td>\n",
       "      <td>CA 94114</td>\n",
       "    </tr>\n",
       "    <tr>\n",
       "      <th>5</th>\n",
       "      <td>1056 Sanchez St</td>\n",
       "      <td>San Francisco</td>\n",
       "      <td>USA</td>\n",
       "      <td>12</td>\n",
       "      <td>Sanchez</td>\n",
       "      <td>California</td>\n",
       "    </tr>\n",
       "    <tr>\n",
       "      <th>6</th>\n",
       "      <td>551 Alvarado St</td>\n",
       "      <td>San Francisco</td>\n",
       "      <td>USA</td>\n",
       "      <td>20</td>\n",
       "      <td>Richvalley</td>\n",
       "      <td>CA 94114</td>\n",
       "    </tr>\n",
       "  </tbody>\n",
       "</table>\n",
       "</div>"
      ],
      "text/plain": [
       "            Address           City Country  Employees         Name  \\\n",
       "ID                                                                   \n",
       "1      3666 21st St  San Francisco     USA          8      Madeira   \n",
       "2    735 Dolores St  San Francisco     USA         15  Bready Shop   \n",
       "3       332 Hill St  San Francisco     USA         25  Super River   \n",
       "4      3995 23rd St  San Francisco     USA         10   Ben's Shop   \n",
       "5   1056 Sanchez St  San Francisco     USA         12      Sanchez   \n",
       "6   551 Alvarado St  San Francisco     USA         20   Richvalley   \n",
       "\n",
       "               State  \n",
       "ID                    \n",
       "1           CA 94114  \n",
       "2           CA 94119  \n",
       "3   California 94114  \n",
       "4           CA 94114  \n",
       "5         California  \n",
       "6           CA 94114  "
      ]
     },
     "execution_count": 10,
     "metadata": {},
     "output_type": "execute_result"
    }
   ],
   "source": [
    "df2=pandas.read_json(\"supermarkets.json\")\n",
    "df2.set_index(\"ID\")"
   ]
  },
  {
   "cell_type": "code",
   "execution_count": 13,
   "metadata": {
    "collapsed": false
   },
   "outputs": [
    {
     "data": {
      "text/html": [
       "<div>\n",
       "<table border=\"1\" class=\"dataframe\">\n",
       "  <thead>\n",
       "    <tr style=\"text-align: right;\">\n",
       "      <th></th>\n",
       "      <th>Address</th>\n",
       "      <th>City</th>\n",
       "      <th>State</th>\n",
       "      <th>Country</th>\n",
       "      <th>Supermarket Name</th>\n",
       "      <th>Number of Employees</th>\n",
       "    </tr>\n",
       "    <tr>\n",
       "      <th>ID</th>\n",
       "      <th></th>\n",
       "      <th></th>\n",
       "      <th></th>\n",
       "      <th></th>\n",
       "      <th></th>\n",
       "      <th></th>\n",
       "    </tr>\n",
       "  </thead>\n",
       "  <tbody>\n",
       "    <tr>\n",
       "      <th>1</th>\n",
       "      <td>3666 21st St</td>\n",
       "      <td>San Francisco</td>\n",
       "      <td>CA 94114</td>\n",
       "      <td>USA</td>\n",
       "      <td>Madeira</td>\n",
       "      <td>8</td>\n",
       "    </tr>\n",
       "    <tr>\n",
       "      <th>2</th>\n",
       "      <td>735 Dolores St</td>\n",
       "      <td>San Francisco</td>\n",
       "      <td>CA 94119</td>\n",
       "      <td>USA</td>\n",
       "      <td>Bready Shop</td>\n",
       "      <td>15</td>\n",
       "    </tr>\n",
       "    <tr>\n",
       "      <th>3</th>\n",
       "      <td>332 Hill St</td>\n",
       "      <td>San Francisco</td>\n",
       "      <td>California 94114</td>\n",
       "      <td>USA</td>\n",
       "      <td>Super River</td>\n",
       "      <td>25</td>\n",
       "    </tr>\n",
       "    <tr>\n",
       "      <th>4</th>\n",
       "      <td>3995 23rd St</td>\n",
       "      <td>San Francisco</td>\n",
       "      <td>CA 94114</td>\n",
       "      <td>USA</td>\n",
       "      <td>Ben's Shop</td>\n",
       "      <td>10</td>\n",
       "    </tr>\n",
       "    <tr>\n",
       "      <th>5</th>\n",
       "      <td>1056 Sanchez St</td>\n",
       "      <td>San Francisco</td>\n",
       "      <td>California</td>\n",
       "      <td>USA</td>\n",
       "      <td>Sanchez</td>\n",
       "      <td>12</td>\n",
       "    </tr>\n",
       "    <tr>\n",
       "      <th>6</th>\n",
       "      <td>551 Alvarado St</td>\n",
       "      <td>San Francisco</td>\n",
       "      <td>CA 94114</td>\n",
       "      <td>USA</td>\n",
       "      <td>Richvalley</td>\n",
       "      <td>20</td>\n",
       "    </tr>\n",
       "  </tbody>\n",
       "</table>\n",
       "</div>"
      ],
      "text/plain": [
       "            Address           City             State Country Supermarket Name  \\\n",
       "ID                                                                              \n",
       "1      3666 21st St  San Francisco          CA 94114     USA          Madeira   \n",
       "2    735 Dolores St  San Francisco          CA 94119     USA      Bready Shop   \n",
       "3       332 Hill St  San Francisco  California 94114     USA      Super River   \n",
       "4      3995 23rd St  San Francisco          CA 94114     USA       Ben's Shop   \n",
       "5   1056 Sanchez St  San Francisco        California     USA          Sanchez   \n",
       "6   551 Alvarado St  San Francisco          CA 94114     USA       Richvalley   \n",
       "\n",
       "    Number of Employees  \n",
       "ID                       \n",
       "1                     8  \n",
       "2                    15  \n",
       "3                    25  \n",
       "4                    10  \n",
       "5                    12  \n",
       "6                    20  "
      ]
     },
     "execution_count": 13,
     "metadata": {},
     "output_type": "execute_result"
    }
   ],
   "source": [
    "df3=pandas.read_excel(\"supermarkets.xlsx\",sheetname=0)\n",
    "df3.set_index(\"ID\")\n"
   ]
  },
  {
   "cell_type": "code",
   "execution_count": 16,
   "metadata": {
    "collapsed": false
   },
   "outputs": [
    {
     "data": {
      "text/html": [
       "<div>\n",
       "<table border=\"1\" class=\"dataframe\">\n",
       "  <thead>\n",
       "    <tr style=\"text-align: right;\">\n",
       "      <th></th>\n",
       "      <th>Address</th>\n",
       "      <th>City</th>\n",
       "      <th>State</th>\n",
       "      <th>Country</th>\n",
       "      <th>Name</th>\n",
       "      <th>Employees</th>\n",
       "    </tr>\n",
       "    <tr>\n",
       "      <th>ID</th>\n",
       "      <th></th>\n",
       "      <th></th>\n",
       "      <th></th>\n",
       "      <th></th>\n",
       "      <th></th>\n",
       "      <th></th>\n",
       "    </tr>\n",
       "  </thead>\n",
       "  <tbody>\n",
       "    <tr>\n",
       "      <th>1</th>\n",
       "      <td>3666 21st St</td>\n",
       "      <td>San Francisco</td>\n",
       "      <td>CA 94114</td>\n",
       "      <td>USA</td>\n",
       "      <td>Madeira</td>\n",
       "      <td>8</td>\n",
       "    </tr>\n",
       "    <tr>\n",
       "      <th>2</th>\n",
       "      <td>735 Dolores St</td>\n",
       "      <td>San Francisco</td>\n",
       "      <td>CA 94119</td>\n",
       "      <td>USA</td>\n",
       "      <td>Bready Shop</td>\n",
       "      <td>15</td>\n",
       "    </tr>\n",
       "    <tr>\n",
       "      <th>3</th>\n",
       "      <td>332 Hill St</td>\n",
       "      <td>San Francisco</td>\n",
       "      <td>California 94114</td>\n",
       "      <td>USA</td>\n",
       "      <td>Super River</td>\n",
       "      <td>25</td>\n",
       "    </tr>\n",
       "    <tr>\n",
       "      <th>4</th>\n",
       "      <td>3995 23rd St</td>\n",
       "      <td>San Francisco</td>\n",
       "      <td>CA 94114</td>\n",
       "      <td>USA</td>\n",
       "      <td>Ben's Shop</td>\n",
       "      <td>10</td>\n",
       "    </tr>\n",
       "    <tr>\n",
       "      <th>5</th>\n",
       "      <td>1056 Sanchez St</td>\n",
       "      <td>San Francisco</td>\n",
       "      <td>California</td>\n",
       "      <td>USA</td>\n",
       "      <td>Sanchez</td>\n",
       "      <td>12</td>\n",
       "    </tr>\n",
       "    <tr>\n",
       "      <th>6</th>\n",
       "      <td>551 Alvarado St</td>\n",
       "      <td>San Francisco</td>\n",
       "      <td>CA 94114</td>\n",
       "      <td>USA</td>\n",
       "      <td>Richvalley</td>\n",
       "      <td>20</td>\n",
       "    </tr>\n",
       "  </tbody>\n",
       "</table>\n",
       "</div>"
      ],
      "text/plain": [
       "            Address           City             State Country         Name  \\\n",
       "ID                                                                          \n",
       "1      3666 21st St  San Francisco          CA 94114     USA      Madeira   \n",
       "2    735 Dolores St  San Francisco          CA 94119     USA  Bready Shop   \n",
       "3       332 Hill St  San Francisco  California 94114     USA  Super River   \n",
       "4      3995 23rd St  San Francisco          CA 94114     USA   Ben's Shop   \n",
       "5   1056 Sanchez St  San Francisco        California     USA      Sanchez   \n",
       "6   551 Alvarado St  San Francisco          CA 94114     USA   Richvalley   \n",
       "\n",
       "    Employees  \n",
       "ID             \n",
       "1           8  \n",
       "2          15  \n",
       "3          25  \n",
       "4          10  \n",
       "5          12  \n",
       "6          20  "
      ]
     },
     "execution_count": 16,
     "metadata": {},
     "output_type": "execute_result"
    }
   ],
   "source": [
    "df4=pandas.read_csv(\"supermarkets.csv\")\n",
    "df4.set_index(\"ID\")\n"
   ]
  },
  {
   "cell_type": "code",
   "execution_count": 26,
   "metadata": {
    "collapsed": false
   },
   "outputs": [
    {
     "data": {
      "text/html": [
       "<div>\n",
       "<table border=\"1\" class=\"dataframe\">\n",
       "  <thead>\n",
       "    <tr style=\"text-align: right;\">\n",
       "      <th></th>\n",
       "      <th>ID</th>\n",
       "      <th>Address</th>\n",
       "      <th>City</th>\n",
       "      <th>State</th>\n",
       "      <th>Country</th>\n",
       "      <th>Name</th>\n",
       "      <th>Employees</th>\n",
       "    </tr>\n",
       "  </thead>\n",
       "  <tbody>\n",
       "    <tr>\n",
       "      <th>0</th>\n",
       "      <td>1</td>\n",
       "      <td>3666 21st St</td>\n",
       "      <td>San Francisco</td>\n",
       "      <td>CA 94114</td>\n",
       "      <td>USA</td>\n",
       "      <td>Madeira</td>\n",
       "      <td>8</td>\n",
       "    </tr>\n",
       "    <tr>\n",
       "      <th>1</th>\n",
       "      <td>2</td>\n",
       "      <td>735 Dolores St</td>\n",
       "      <td>San Francisco</td>\n",
       "      <td>CA 94119</td>\n",
       "      <td>USA</td>\n",
       "      <td>Bready Shop</td>\n",
       "      <td>15</td>\n",
       "    </tr>\n",
       "    <tr>\n",
       "      <th>2</th>\n",
       "      <td>3</td>\n",
       "      <td>332 Hill St</td>\n",
       "      <td>San Francisco</td>\n",
       "      <td>California 94114</td>\n",
       "      <td>USA</td>\n",
       "      <td>Super River</td>\n",
       "      <td>25</td>\n",
       "    </tr>\n",
       "    <tr>\n",
       "      <th>3</th>\n",
       "      <td>4</td>\n",
       "      <td>3995 23rd St</td>\n",
       "      <td>San Francisco</td>\n",
       "      <td>CA 94114</td>\n",
       "      <td>USA</td>\n",
       "      <td>Ben's Shop</td>\n",
       "      <td>10</td>\n",
       "    </tr>\n",
       "    <tr>\n",
       "      <th>4</th>\n",
       "      <td>5</td>\n",
       "      <td>1056 Sanchez St</td>\n",
       "      <td>San Francisco</td>\n",
       "      <td>California</td>\n",
       "      <td>USA</td>\n",
       "      <td>Sanchez</td>\n",
       "      <td>12</td>\n",
       "    </tr>\n",
       "    <tr>\n",
       "      <th>5</th>\n",
       "      <td>6</td>\n",
       "      <td>551 Alvarado St</td>\n",
       "      <td>San Francisco</td>\n",
       "      <td>CA 94114</td>\n",
       "      <td>USA</td>\n",
       "      <td>Richvalley</td>\n",
       "      <td>20</td>\n",
       "    </tr>\n",
       "  </tbody>\n",
       "</table>\n",
       "</div>"
      ],
      "text/plain": [
       "   ID          Address           City             State Country          Name  \\\n",
       "0   1     3666 21st St  San Francisco          CA 94114     USA       Madeira   \n",
       "1   2   735 Dolores St  San Francisco          CA 94119     USA   Bready Shop   \n",
       "2   3      332 Hill St  San Francisco  California 94114     USA   Super River   \n",
       "3   4     3995 23rd St  San Francisco          CA 94114     USA    Ben's Shop   \n",
       "4   5  1056 Sanchez St  San Francisco        California     USA       Sanchez   \n",
       "5   6  551 Alvarado St  San Francisco          CA 94114     USA    Richvalley   \n",
       "\n",
       "   Employees  \n",
       "0          8  \n",
       "1         15  \n",
       "2         25  \n",
       "3         10  \n",
       "4         12  \n",
       "5         20  "
      ]
     },
     "execution_count": 26,
     "metadata": {},
     "output_type": "execute_result"
    }
   ],
   "source": [
    "df5=pandas.read_csv(\"supermarkets-semi-colons.txt\", sep=';')\n",
    "df5"
   ]
  },
  {
   "cell_type": "code",
   "execution_count": 27,
   "metadata": {
    "collapsed": false
   },
   "outputs": [
    {
     "data": {
      "text/html": [
       "<div>\n",
       "<table border=\"1\" class=\"dataframe\">\n",
       "  <thead>\n",
       "    <tr style=\"text-align: right;\">\n",
       "      <th></th>\n",
       "      <th>Address</th>\n",
       "      <th>City</th>\n",
       "      <th>State</th>\n",
       "      <th>Country</th>\n",
       "      <th>Name</th>\n",
       "      <th>Employees</th>\n",
       "    </tr>\n",
       "    <tr>\n",
       "      <th>ID</th>\n",
       "      <th></th>\n",
       "      <th></th>\n",
       "      <th></th>\n",
       "      <th></th>\n",
       "      <th></th>\n",
       "      <th></th>\n",
       "    </tr>\n",
       "  </thead>\n",
       "  <tbody>\n",
       "    <tr>\n",
       "      <th>1</th>\n",
       "      <td>3666 21st St</td>\n",
       "      <td>San Francisco</td>\n",
       "      <td>CA 94114</td>\n",
       "      <td>USA</td>\n",
       "      <td>Madeira</td>\n",
       "      <td>8</td>\n",
       "    </tr>\n",
       "    <tr>\n",
       "      <th>2</th>\n",
       "      <td>735 Dolores St</td>\n",
       "      <td>San Francisco</td>\n",
       "      <td>CA 94119</td>\n",
       "      <td>USA</td>\n",
       "      <td>Bready Shop</td>\n",
       "      <td>15</td>\n",
       "    </tr>\n",
       "    <tr>\n",
       "      <th>3</th>\n",
       "      <td>332 Hill St</td>\n",
       "      <td>San Francisco</td>\n",
       "      <td>California 94114</td>\n",
       "      <td>USA</td>\n",
       "      <td>Super River</td>\n",
       "      <td>25</td>\n",
       "    </tr>\n",
       "    <tr>\n",
       "      <th>4</th>\n",
       "      <td>3995 23rd St</td>\n",
       "      <td>San Francisco</td>\n",
       "      <td>CA 94114</td>\n",
       "      <td>USA</td>\n",
       "      <td>Ben's Shop</td>\n",
       "      <td>10</td>\n",
       "    </tr>\n",
       "    <tr>\n",
       "      <th>5</th>\n",
       "      <td>1056 Sanchez St</td>\n",
       "      <td>San Francisco</td>\n",
       "      <td>California</td>\n",
       "      <td>USA</td>\n",
       "      <td>Sanchez</td>\n",
       "      <td>12</td>\n",
       "    </tr>\n",
       "    <tr>\n",
       "      <th>6</th>\n",
       "      <td>551 Alvarado St</td>\n",
       "      <td>San Francisco</td>\n",
       "      <td>CA 94114</td>\n",
       "      <td>USA</td>\n",
       "      <td>Richvalley</td>\n",
       "      <td>20</td>\n",
       "    </tr>\n",
       "  </tbody>\n",
       "</table>\n",
       "</div>"
      ],
      "text/plain": [
       "            Address           City             State Country         Name  \\\n",
       "ID                                                                          \n",
       "1      3666 21st St  San Francisco          CA 94114     USA      Madeira   \n",
       "2    735 Dolores St  San Francisco          CA 94119     USA  Bready Shop   \n",
       "3       332 Hill St  San Francisco  California 94114     USA  Super River   \n",
       "4      3995 23rd St  San Francisco          CA 94114     USA   Ben's Shop   \n",
       "5   1056 Sanchez St  San Francisco        California     USA      Sanchez   \n",
       "6   551 Alvarado St  San Francisco          CA 94114     USA   Richvalley   \n",
       "\n",
       "    Employees  \n",
       "ID             \n",
       "1           8  \n",
       "2          15  \n",
       "3          25  \n",
       "4          10  \n",
       "5          12  \n",
       "6          20  "
      ]
     },
     "execution_count": 27,
     "metadata": {},
     "output_type": "execute_result"
    }
   ],
   "source": [
    "df6=pandas.read_csv(\"https://pythonhow.com/supermarkets.csv\")\n",
    "df6.set_index(\"ID\")"
   ]
  },
  {
   "cell_type": "code",
   "execution_count": 28,
   "metadata": {
    "collapsed": false
   },
   "outputs": [
    {
     "data": {
      "text/html": [
       "<div>\n",
       "<table border=\"1\" class=\"dataframe\">\n",
       "  <thead>\n",
       "    <tr style=\"text-align: right;\">\n",
       "      <th></th>\n",
       "      <th>Address</th>\n",
       "      <th>City</th>\n",
       "      <th>Country</th>\n",
       "      <th>Employees</th>\n",
       "      <th>ID</th>\n",
       "      <th>Name</th>\n",
       "      <th>State</th>\n",
       "    </tr>\n",
       "  </thead>\n",
       "  <tbody>\n",
       "    <tr>\n",
       "      <th>0</th>\n",
       "      <td>3666 21st St</td>\n",
       "      <td>San Francisco</td>\n",
       "      <td>USA</td>\n",
       "      <td>8</td>\n",
       "      <td>1</td>\n",
       "      <td>Madeira</td>\n",
       "      <td>CA 94114</td>\n",
       "    </tr>\n",
       "    <tr>\n",
       "      <th>1</th>\n",
       "      <td>735 Dolores St</td>\n",
       "      <td>San Francisco</td>\n",
       "      <td>USA</td>\n",
       "      <td>15</td>\n",
       "      <td>2</td>\n",
       "      <td>Bready Shop</td>\n",
       "      <td>CA 94119</td>\n",
       "    </tr>\n",
       "    <tr>\n",
       "      <th>2</th>\n",
       "      <td>332 Hill St</td>\n",
       "      <td>San Francisco</td>\n",
       "      <td>USA</td>\n",
       "      <td>25</td>\n",
       "      <td>3</td>\n",
       "      <td>Super River</td>\n",
       "      <td>California 94114</td>\n",
       "    </tr>\n",
       "    <tr>\n",
       "      <th>3</th>\n",
       "      <td>3995 23rd St</td>\n",
       "      <td>San Francisco</td>\n",
       "      <td>USA</td>\n",
       "      <td>10</td>\n",
       "      <td>4</td>\n",
       "      <td>Ben's Shop</td>\n",
       "      <td>CA 94114</td>\n",
       "    </tr>\n",
       "    <tr>\n",
       "      <th>4</th>\n",
       "      <td>1056 Sanchez St</td>\n",
       "      <td>San Francisco</td>\n",
       "      <td>USA</td>\n",
       "      <td>12</td>\n",
       "      <td>5</td>\n",
       "      <td>Sanchez</td>\n",
       "      <td>California</td>\n",
       "    </tr>\n",
       "    <tr>\n",
       "      <th>5</th>\n",
       "      <td>551 Alvarado St</td>\n",
       "      <td>San Francisco</td>\n",
       "      <td>USA</td>\n",
       "      <td>20</td>\n",
       "      <td>6</td>\n",
       "      <td>Richvalley</td>\n",
       "      <td>CA 94114</td>\n",
       "    </tr>\n",
       "  </tbody>\n",
       "</table>\n",
       "</div>"
      ],
      "text/plain": [
       "           Address           City Country  Employees  ID         Name  \\\n",
       "0     3666 21st St  San Francisco     USA          8   1      Madeira   \n",
       "1   735 Dolores St  San Francisco     USA         15   2  Bready Shop   \n",
       "2      332 Hill St  San Francisco     USA         25   3  Super River   \n",
       "3     3995 23rd St  San Francisco     USA         10   4   Ben's Shop   \n",
       "4  1056 Sanchez St  San Francisco     USA         12   5      Sanchez   \n",
       "5  551 Alvarado St  San Francisco     USA         20   6   Richvalley   \n",
       "\n",
       "              State  \n",
       "0          CA 94114  \n",
       "1          CA 94119  \n",
       "2  California 94114  \n",
       "3          CA 94114  \n",
       "4        California  \n",
       "5          CA 94114  "
      ]
     },
     "execution_count": 28,
     "metadata": {},
     "output_type": "execute_result"
    }
   ],
   "source": [
    "df7=pandas.read_json(\"https://pythonhow.com/supermarkets.json\")\n",
    "df7"
   ]
  },
  {
   "cell_type": "code",
   "execution_count": 33,
   "metadata": {
    "collapsed": false
   },
   "outputs": [],
   "source": [
    "df7=df7.set_index(\"Address\")\n"
   ]
  },
  {
   "cell_type": "code",
   "execution_count": null,
   "metadata": {
    "collapsed": true
   },
   "outputs": [],
   "source": []
  },
  {
   "cell_type": "code",
   "execution_count": 34,
   "metadata": {
    "collapsed": false
   },
   "outputs": [
    {
     "data": {
      "text/html": [
       "<div>\n",
       "<table border=\"1\" class=\"dataframe\">\n",
       "  <thead>\n",
       "    <tr style=\"text-align: right;\">\n",
       "      <th></th>\n",
       "      <th>City</th>\n",
       "      <th>Country</th>\n",
       "      <th>Employees</th>\n",
       "      <th>ID</th>\n",
       "      <th>Name</th>\n",
       "      <th>State</th>\n",
       "    </tr>\n",
       "    <tr>\n",
       "      <th>Address</th>\n",
       "      <th></th>\n",
       "      <th></th>\n",
       "      <th></th>\n",
       "      <th></th>\n",
       "      <th></th>\n",
       "      <th></th>\n",
       "    </tr>\n",
       "  </thead>\n",
       "  <tbody>\n",
       "    <tr>\n",
       "      <th>3666 21st St</th>\n",
       "      <td>San Francisco</td>\n",
       "      <td>USA</td>\n",
       "      <td>8</td>\n",
       "      <td>1</td>\n",
       "      <td>Madeira</td>\n",
       "      <td>CA 94114</td>\n",
       "    </tr>\n",
       "    <tr>\n",
       "      <th>735 Dolores St</th>\n",
       "      <td>San Francisco</td>\n",
       "      <td>USA</td>\n",
       "      <td>15</td>\n",
       "      <td>2</td>\n",
       "      <td>Bready Shop</td>\n",
       "      <td>CA 94119</td>\n",
       "    </tr>\n",
       "    <tr>\n",
       "      <th>332 Hill St</th>\n",
       "      <td>San Francisco</td>\n",
       "      <td>USA</td>\n",
       "      <td>25</td>\n",
       "      <td>3</td>\n",
       "      <td>Super River</td>\n",
       "      <td>California 94114</td>\n",
       "    </tr>\n",
       "    <tr>\n",
       "      <th>3995 23rd St</th>\n",
       "      <td>San Francisco</td>\n",
       "      <td>USA</td>\n",
       "      <td>10</td>\n",
       "      <td>4</td>\n",
       "      <td>Ben's Shop</td>\n",
       "      <td>CA 94114</td>\n",
       "    </tr>\n",
       "    <tr>\n",
       "      <th>1056 Sanchez St</th>\n",
       "      <td>San Francisco</td>\n",
       "      <td>USA</td>\n",
       "      <td>12</td>\n",
       "      <td>5</td>\n",
       "      <td>Sanchez</td>\n",
       "      <td>California</td>\n",
       "    </tr>\n",
       "    <tr>\n",
       "      <th>551 Alvarado St</th>\n",
       "      <td>San Francisco</td>\n",
       "      <td>USA</td>\n",
       "      <td>20</td>\n",
       "      <td>6</td>\n",
       "      <td>Richvalley</td>\n",
       "      <td>CA 94114</td>\n",
       "    </tr>\n",
       "  </tbody>\n",
       "</table>\n",
       "</div>"
      ],
      "text/plain": [
       "                          City Country  Employees  ID         Name  \\\n",
       "Address                                                              \n",
       "3666 21st St     San Francisco     USA          8   1      Madeira   \n",
       "735 Dolores St   San Francisco     USA         15   2  Bready Shop   \n",
       "332 Hill St      San Francisco     USA         25   3  Super River   \n",
       "3995 23rd St     San Francisco     USA         10   4   Ben's Shop   \n",
       "1056 Sanchez St  San Francisco     USA         12   5      Sanchez   \n",
       "551 Alvarado St  San Francisco     USA         20   6   Richvalley   \n",
       "\n",
       "                            State  \n",
       "Address                            \n",
       "3666 21st St             CA 94114  \n",
       "735 Dolores St           CA 94119  \n",
       "332 Hill St      California 94114  \n",
       "3995 23rd St             CA 94114  \n",
       "1056 Sanchez St        California  \n",
       "551 Alvarado St          CA 94114  "
      ]
     },
     "execution_count": 34,
     "metadata": {},
     "output_type": "execute_result"
    }
   ],
   "source": [
    "df7"
   ]
  },
  {
   "cell_type": "code",
   "execution_count": 35,
   "metadata": {
    "collapsed": false
   },
   "outputs": [
    {
     "data": {
      "text/html": [
       "<div>\n",
       "<table border=\"1\" class=\"dataframe\">\n",
       "  <thead>\n",
       "    <tr style=\"text-align: right;\">\n",
       "      <th></th>\n",
       "      <th>Country</th>\n",
       "      <th>Employees</th>\n",
       "      <th>ID</th>\n",
       "    </tr>\n",
       "    <tr>\n",
       "      <th>Address</th>\n",
       "      <th></th>\n",
       "      <th></th>\n",
       "      <th></th>\n",
       "    </tr>\n",
       "  </thead>\n",
       "  <tbody>\n",
       "    <tr>\n",
       "      <th>735 Dolores St</th>\n",
       "      <td>USA</td>\n",
       "      <td>15</td>\n",
       "      <td>2</td>\n",
       "    </tr>\n",
       "    <tr>\n",
       "      <th>332 Hill St</th>\n",
       "      <td>USA</td>\n",
       "      <td>25</td>\n",
       "      <td>3</td>\n",
       "    </tr>\n",
       "  </tbody>\n",
       "</table>\n",
       "</div>"
      ],
      "text/plain": [
       "               Country  Employees  ID\n",
       "Address                              \n",
       "735 Dolores St     USA         15   2\n",
       "332 Hill St        USA         25   3"
      ]
     },
     "execution_count": 35,
     "metadata": {},
     "output_type": "execute_result"
    }
   ],
   "source": [
    "df7.loc[\"735 Dolores St\":\"332 Hill St\",\"Country\":\"ID\"]"
   ]
  },
  {
   "cell_type": "code",
   "execution_count": 36,
   "metadata": {
    "collapsed": false
   },
   "outputs": [
    {
     "data": {
      "text/plain": [
       "'USA'"
      ]
     },
     "execution_count": 36,
     "metadata": {},
     "output_type": "execute_result"
    }
   ],
   "source": [
    "df7.loc[\"332 Hill St\",\"Country\"]"
   ]
  },
  {
   "cell_type": "code",
   "execution_count": 37,
   "metadata": {
    "collapsed": false
   },
   "outputs": [
    {
     "data": {
      "text/plain": [
       "['USA', 'USA', 'USA', 'USA', 'USA', 'USA']"
      ]
     },
     "execution_count": 37,
     "metadata": {},
     "output_type": "execute_result"
    }
   ],
   "source": [
    "list(df7.loc[:,\"Country\"])"
   ]
  },
  {
   "cell_type": "code",
   "execution_count": 39,
   "metadata": {
    "collapsed": false
   },
   "outputs": [
    {
     "data": {
      "text/html": [
       "<div>\n",
       "<table border=\"1\" class=\"dataframe\">\n",
       "  <thead>\n",
       "    <tr style=\"text-align: right;\">\n",
       "      <th></th>\n",
       "      <th>Country</th>\n",
       "      <th>Employees</th>\n",
       "      <th>ID</th>\n",
       "    </tr>\n",
       "    <tr>\n",
       "      <th>Address</th>\n",
       "      <th></th>\n",
       "      <th></th>\n",
       "      <th></th>\n",
       "    </tr>\n",
       "  </thead>\n",
       "  <tbody>\n",
       "    <tr>\n",
       "      <th>735 Dolores St</th>\n",
       "      <td>USA</td>\n",
       "      <td>15</td>\n",
       "      <td>2</td>\n",
       "    </tr>\n",
       "    <tr>\n",
       "      <th>332 Hill St</th>\n",
       "      <td>USA</td>\n",
       "      <td>25</td>\n",
       "      <td>3</td>\n",
       "    </tr>\n",
       "    <tr>\n",
       "      <th>3995 23rd St</th>\n",
       "      <td>USA</td>\n",
       "      <td>10</td>\n",
       "      <td>4</td>\n",
       "    </tr>\n",
       "  </tbody>\n",
       "</table>\n",
       "</div>"
      ],
      "text/plain": [
       "               Country  Employees  ID\n",
       "Address                              \n",
       "735 Dolores St     USA         15   2\n",
       "332 Hill St        USA         25   3\n",
       "3995 23rd St       USA         10   4"
      ]
     },
     "execution_count": 39,
     "metadata": {},
     "output_type": "execute_result"
    }
   ],
   "source": [
    "df7.iloc[1:4,1:4]\n"
   ]
  },
  {
   "cell_type": "code",
   "execution_count": 40,
   "metadata": {
    "collapsed": false
   },
   "outputs": [
    {
     "data": {
      "text/plain": [
       "\"Ben's Shop\""
      ]
     },
     "execution_count": 40,
     "metadata": {},
     "output_type": "execute_result"
    }
   ],
   "source": [
    "df7.ix[3,\"Name\"]"
   ]
  },
  {
   "cell_type": "code",
   "execution_count": 41,
   "metadata": {
    "collapsed": false
   },
   "outputs": [
    {
     "data": {
      "text/html": [
       "<div>\n",
       "<table border=\"1\" class=\"dataframe\">\n",
       "  <thead>\n",
       "    <tr style=\"text-align: right;\">\n",
       "      <th></th>\n",
       "      <th>Country</th>\n",
       "      <th>Employees</th>\n",
       "      <th>ID</th>\n",
       "      <th>Name</th>\n",
       "      <th>State</th>\n",
       "    </tr>\n",
       "    <tr>\n",
       "      <th>Address</th>\n",
       "      <th></th>\n",
       "      <th></th>\n",
       "      <th></th>\n",
       "      <th></th>\n",
       "      <th></th>\n",
       "    </tr>\n",
       "  </thead>\n",
       "  <tbody>\n",
       "    <tr>\n",
       "      <th>3666 21st St</th>\n",
       "      <td>USA</td>\n",
       "      <td>8</td>\n",
       "      <td>1</td>\n",
       "      <td>Madeira</td>\n",
       "      <td>CA 94114</td>\n",
       "    </tr>\n",
       "    <tr>\n",
       "      <th>735 Dolores St</th>\n",
       "      <td>USA</td>\n",
       "      <td>15</td>\n",
       "      <td>2</td>\n",
       "      <td>Bready Shop</td>\n",
       "      <td>CA 94119</td>\n",
       "    </tr>\n",
       "    <tr>\n",
       "      <th>332 Hill St</th>\n",
       "      <td>USA</td>\n",
       "      <td>25</td>\n",
       "      <td>3</td>\n",
       "      <td>Super River</td>\n",
       "      <td>California 94114</td>\n",
       "    </tr>\n",
       "    <tr>\n",
       "      <th>3995 23rd St</th>\n",
       "      <td>USA</td>\n",
       "      <td>10</td>\n",
       "      <td>4</td>\n",
       "      <td>Ben's Shop</td>\n",
       "      <td>CA 94114</td>\n",
       "    </tr>\n",
       "    <tr>\n",
       "      <th>1056 Sanchez St</th>\n",
       "      <td>USA</td>\n",
       "      <td>12</td>\n",
       "      <td>5</td>\n",
       "      <td>Sanchez</td>\n",
       "      <td>California</td>\n",
       "    </tr>\n",
       "    <tr>\n",
       "      <th>551 Alvarado St</th>\n",
       "      <td>USA</td>\n",
       "      <td>20</td>\n",
       "      <td>6</td>\n",
       "      <td>Richvalley</td>\n",
       "      <td>CA 94114</td>\n",
       "    </tr>\n",
       "  </tbody>\n",
       "</table>\n",
       "</div>"
      ],
      "text/plain": [
       "                Country  Employees  ID         Name             State\n",
       "Address                                                              \n",
       "3666 21st St        USA          8   1      Madeira          CA 94114\n",
       "735 Dolores St      USA         15   2  Bready Shop          CA 94119\n",
       "332 Hill St         USA         25   3  Super River  California 94114\n",
       "3995 23rd St        USA         10   4   Ben's Shop          CA 94114\n",
       "1056 Sanchez St     USA         12   5      Sanchez        California\n",
       "551 Alvarado St     USA         20   6   Richvalley          CA 94114"
      ]
     },
     "execution_count": 41,
     "metadata": {},
     "output_type": "execute_result"
    }
   ],
   "source": [
    "df7.drop(\"City\",1)\n"
   ]
  },
  {
   "cell_type": "code",
   "execution_count": 42,
   "metadata": {
    "collapsed": false
   },
   "outputs": [
    {
     "data": {
      "text/html": [
       "<div>\n",
       "<table border=\"1\" class=\"dataframe\">\n",
       "  <thead>\n",
       "    <tr style=\"text-align: right;\">\n",
       "      <th></th>\n",
       "      <th>City</th>\n",
       "      <th>Country</th>\n",
       "      <th>Employees</th>\n",
       "      <th>ID</th>\n",
       "      <th>Name</th>\n",
       "      <th>State</th>\n",
       "    </tr>\n",
       "    <tr>\n",
       "      <th>Address</th>\n",
       "      <th></th>\n",
       "      <th></th>\n",
       "      <th></th>\n",
       "      <th></th>\n",
       "      <th></th>\n",
       "      <th></th>\n",
       "    </tr>\n",
       "  </thead>\n",
       "  <tbody>\n",
       "    <tr>\n",
       "      <th>3666 21st St</th>\n",
       "      <td>San Francisco</td>\n",
       "      <td>USA</td>\n",
       "      <td>8</td>\n",
       "      <td>1</td>\n",
       "      <td>Madeira</td>\n",
       "      <td>CA 94114</td>\n",
       "    </tr>\n",
       "    <tr>\n",
       "      <th>735 Dolores St</th>\n",
       "      <td>San Francisco</td>\n",
       "      <td>USA</td>\n",
       "      <td>15</td>\n",
       "      <td>2</td>\n",
       "      <td>Bready Shop</td>\n",
       "      <td>CA 94119</td>\n",
       "    </tr>\n",
       "    <tr>\n",
       "      <th>332 Hill St</th>\n",
       "      <td>San Francisco</td>\n",
       "      <td>USA</td>\n",
       "      <td>25</td>\n",
       "      <td>3</td>\n",
       "      <td>Super River</td>\n",
       "      <td>California 94114</td>\n",
       "    </tr>\n",
       "    <tr>\n",
       "      <th>3995 23rd St</th>\n",
       "      <td>San Francisco</td>\n",
       "      <td>USA</td>\n",
       "      <td>10</td>\n",
       "      <td>4</td>\n",
       "      <td>Ben's Shop</td>\n",
       "      <td>CA 94114</td>\n",
       "    </tr>\n",
       "    <tr>\n",
       "      <th>1056 Sanchez St</th>\n",
       "      <td>San Francisco</td>\n",
       "      <td>USA</td>\n",
       "      <td>12</td>\n",
       "      <td>5</td>\n",
       "      <td>Sanchez</td>\n",
       "      <td>California</td>\n",
       "    </tr>\n",
       "    <tr>\n",
       "      <th>551 Alvarado St</th>\n",
       "      <td>San Francisco</td>\n",
       "      <td>USA</td>\n",
       "      <td>20</td>\n",
       "      <td>6</td>\n",
       "      <td>Richvalley</td>\n",
       "      <td>CA 94114</td>\n",
       "    </tr>\n",
       "  </tbody>\n",
       "</table>\n",
       "</div>"
      ],
      "text/plain": [
       "                          City Country  Employees  ID         Name  \\\n",
       "Address                                                              \n",
       "3666 21st St     San Francisco     USA          8   1      Madeira   \n",
       "735 Dolores St   San Francisco     USA         15   2  Bready Shop   \n",
       "332 Hill St      San Francisco     USA         25   3  Super River   \n",
       "3995 23rd St     San Francisco     USA         10   4   Ben's Shop   \n",
       "1056 Sanchez St  San Francisco     USA         12   5      Sanchez   \n",
       "551 Alvarado St  San Francisco     USA         20   6   Richvalley   \n",
       "\n",
       "                            State  \n",
       "Address                            \n",
       "3666 21st St             CA 94114  \n",
       "735 Dolores St           CA 94119  \n",
       "332 Hill St      California 94114  \n",
       "3995 23rd St             CA 94114  \n",
       "1056 Sanchez St        California  \n",
       "551 Alvarado St          CA 94114  "
      ]
     },
     "execution_count": 42,
     "metadata": {},
     "output_type": "execute_result"
    }
   ],
   "source": [
    "df7\n"
   ]
  },
  {
   "cell_type": "code",
   "execution_count": 43,
   "metadata": {
    "collapsed": false
   },
   "outputs": [
    {
     "data": {
      "text/html": [
       "<div>\n",
       "<table border=\"1\" class=\"dataframe\">\n",
       "  <thead>\n",
       "    <tr style=\"text-align: right;\">\n",
       "      <th></th>\n",
       "      <th>City</th>\n",
       "      <th>Country</th>\n",
       "      <th>Employees</th>\n",
       "      <th>ID</th>\n",
       "      <th>Name</th>\n",
       "      <th>State</th>\n",
       "    </tr>\n",
       "    <tr>\n",
       "      <th>Address</th>\n",
       "      <th></th>\n",
       "      <th></th>\n",
       "      <th></th>\n",
       "      <th></th>\n",
       "      <th></th>\n",
       "      <th></th>\n",
       "    </tr>\n",
       "  </thead>\n",
       "  <tbody>\n",
       "    <tr>\n",
       "      <th>3666 21st St</th>\n",
       "      <td>San Francisco</td>\n",
       "      <td>USA</td>\n",
       "      <td>8</td>\n",
       "      <td>1</td>\n",
       "      <td>Madeira</td>\n",
       "      <td>CA 94114</td>\n",
       "    </tr>\n",
       "    <tr>\n",
       "      <th>735 Dolores St</th>\n",
       "      <td>San Francisco</td>\n",
       "      <td>USA</td>\n",
       "      <td>15</td>\n",
       "      <td>2</td>\n",
       "      <td>Bready Shop</td>\n",
       "      <td>CA 94119</td>\n",
       "    </tr>\n",
       "    <tr>\n",
       "      <th>3995 23rd St</th>\n",
       "      <td>San Francisco</td>\n",
       "      <td>USA</td>\n",
       "      <td>10</td>\n",
       "      <td>4</td>\n",
       "      <td>Ben's Shop</td>\n",
       "      <td>CA 94114</td>\n",
       "    </tr>\n",
       "    <tr>\n",
       "      <th>1056 Sanchez St</th>\n",
       "      <td>San Francisco</td>\n",
       "      <td>USA</td>\n",
       "      <td>12</td>\n",
       "      <td>5</td>\n",
       "      <td>Sanchez</td>\n",
       "      <td>California</td>\n",
       "    </tr>\n",
       "    <tr>\n",
       "      <th>551 Alvarado St</th>\n",
       "      <td>San Francisco</td>\n",
       "      <td>USA</td>\n",
       "      <td>20</td>\n",
       "      <td>6</td>\n",
       "      <td>Richvalley</td>\n",
       "      <td>CA 94114</td>\n",
       "    </tr>\n",
       "  </tbody>\n",
       "</table>\n",
       "</div>"
      ],
      "text/plain": [
       "                          City Country  Employees  ID         Name       State\n",
       "Address                                                                       \n",
       "3666 21st St     San Francisco     USA          8   1      Madeira    CA 94114\n",
       "735 Dolores St   San Francisco     USA         15   2  Bready Shop    CA 94119\n",
       "3995 23rd St     San Francisco     USA         10   4   Ben's Shop    CA 94114\n",
       "1056 Sanchez St  San Francisco     USA         12   5      Sanchez  California\n",
       "551 Alvarado St  San Francisco     USA         20   6   Richvalley    CA 94114"
      ]
     },
     "execution_count": 43,
     "metadata": {},
     "output_type": "execute_result"
    }
   ],
   "source": [
    "df7.drop(\"332 Hill St\",0)"
   ]
  },
  {
   "cell_type": "code",
   "execution_count": 44,
   "metadata": {
    "collapsed": false
   },
   "outputs": [
    {
     "data": {
      "text/html": [
       "<div>\n",
       "<table border=\"1\" class=\"dataframe\">\n",
       "  <thead>\n",
       "    <tr style=\"text-align: right;\">\n",
       "      <th></th>\n",
       "      <th>ID</th>\n",
       "      <th>Name</th>\n",
       "      <th>State</th>\n",
       "    </tr>\n",
       "    <tr>\n",
       "      <th>Address</th>\n",
       "      <th></th>\n",
       "      <th></th>\n",
       "      <th></th>\n",
       "    </tr>\n",
       "  </thead>\n",
       "  <tbody>\n",
       "    <tr>\n",
       "      <th>3666 21st St</th>\n",
       "      <td>1</td>\n",
       "      <td>Madeira</td>\n",
       "      <td>CA 94114</td>\n",
       "    </tr>\n",
       "    <tr>\n",
       "      <th>735 Dolores St</th>\n",
       "      <td>2</td>\n",
       "      <td>Bready Shop</td>\n",
       "      <td>CA 94119</td>\n",
       "    </tr>\n",
       "    <tr>\n",
       "      <th>332 Hill St</th>\n",
       "      <td>3</td>\n",
       "      <td>Super River</td>\n",
       "      <td>California 94114</td>\n",
       "    </tr>\n",
       "    <tr>\n",
       "      <th>3995 23rd St</th>\n",
       "      <td>4</td>\n",
       "      <td>Ben's Shop</td>\n",
       "      <td>CA 94114</td>\n",
       "    </tr>\n",
       "    <tr>\n",
       "      <th>1056 Sanchez St</th>\n",
       "      <td>5</td>\n",
       "      <td>Sanchez</td>\n",
       "      <td>California</td>\n",
       "    </tr>\n",
       "    <tr>\n",
       "      <th>551 Alvarado St</th>\n",
       "      <td>6</td>\n",
       "      <td>Richvalley</td>\n",
       "      <td>CA 94114</td>\n",
       "    </tr>\n",
       "  </tbody>\n",
       "</table>\n",
       "</div>"
      ],
      "text/plain": [
       "                 ID         Name             State\n",
       "Address                                           \n",
       "3666 21st St      1      Madeira          CA 94114\n",
       "735 Dolores St    2  Bready Shop          CA 94119\n",
       "332 Hill St       3  Super River  California 94114\n",
       "3995 23rd St      4   Ben's Shop          CA 94114\n",
       "1056 Sanchez St   5      Sanchez        California\n",
       "551 Alvarado St   6   Richvalley          CA 94114"
      ]
     },
     "execution_count": 44,
     "metadata": {},
     "output_type": "execute_result"
    }
   ],
   "source": [
    "df7.drop(df7.columns[0:3],1)"
   ]
  },
  {
   "cell_type": "code",
   "execution_count": 45,
   "metadata": {
    "collapsed": false
   },
   "outputs": [
    {
     "data": {
      "text/html": [
       "<div>\n",
       "<table border=\"1\" class=\"dataframe\">\n",
       "  <thead>\n",
       "    <tr style=\"text-align: right;\">\n",
       "      <th></th>\n",
       "      <th>City</th>\n",
       "      <th>Country</th>\n",
       "      <th>Employees</th>\n",
       "      <th>ID</th>\n",
       "      <th>Name</th>\n",
       "      <th>State</th>\n",
       "    </tr>\n",
       "    <tr>\n",
       "      <th>Address</th>\n",
       "      <th></th>\n",
       "      <th></th>\n",
       "      <th></th>\n",
       "      <th></th>\n",
       "      <th></th>\n",
       "      <th></th>\n",
       "    </tr>\n",
       "  </thead>\n",
       "  <tbody>\n",
       "    <tr>\n",
       "      <th>3666 21st St</th>\n",
       "      <td>San Francisco</td>\n",
       "      <td>USA</td>\n",
       "      <td>8</td>\n",
       "      <td>1</td>\n",
       "      <td>Madeira</td>\n",
       "      <td>CA 94114</td>\n",
       "    </tr>\n",
       "    <tr>\n",
       "      <th>735 Dolores St</th>\n",
       "      <td>San Francisco</td>\n",
       "      <td>USA</td>\n",
       "      <td>15</td>\n",
       "      <td>2</td>\n",
       "      <td>Bready Shop</td>\n",
       "      <td>CA 94119</td>\n",
       "    </tr>\n",
       "    <tr>\n",
       "      <th>332 Hill St</th>\n",
       "      <td>San Francisco</td>\n",
       "      <td>USA</td>\n",
       "      <td>25</td>\n",
       "      <td>3</td>\n",
       "      <td>Super River</td>\n",
       "      <td>California 94114</td>\n",
       "    </tr>\n",
       "    <tr>\n",
       "      <th>3995 23rd St</th>\n",
       "      <td>San Francisco</td>\n",
       "      <td>USA</td>\n",
       "      <td>10</td>\n",
       "      <td>4</td>\n",
       "      <td>Ben's Shop</td>\n",
       "      <td>CA 94114</td>\n",
       "    </tr>\n",
       "    <tr>\n",
       "      <th>1056 Sanchez St</th>\n",
       "      <td>San Francisco</td>\n",
       "      <td>USA</td>\n",
       "      <td>12</td>\n",
       "      <td>5</td>\n",
       "      <td>Sanchez</td>\n",
       "      <td>California</td>\n",
       "    </tr>\n",
       "    <tr>\n",
       "      <th>551 Alvarado St</th>\n",
       "      <td>San Francisco</td>\n",
       "      <td>USA</td>\n",
       "      <td>20</td>\n",
       "      <td>6</td>\n",
       "      <td>Richvalley</td>\n",
       "      <td>CA 94114</td>\n",
       "    </tr>\n",
       "  </tbody>\n",
       "</table>\n",
       "</div>"
      ],
      "text/plain": [
       "                          City Country  Employees  ID         Name  \\\n",
       "Address                                                              \n",
       "3666 21st St     San Francisco     USA          8   1      Madeira   \n",
       "735 Dolores St   San Francisco     USA         15   2  Bready Shop   \n",
       "332 Hill St      San Francisco     USA         25   3  Super River   \n",
       "3995 23rd St     San Francisco     USA         10   4   Ben's Shop   \n",
       "1056 Sanchez St  San Francisco     USA         12   5      Sanchez   \n",
       "551 Alvarado St  San Francisco     USA         20   6   Richvalley   \n",
       "\n",
       "                            State  \n",
       "Address                            \n",
       "3666 21st St             CA 94114  \n",
       "735 Dolores St           CA 94119  \n",
       "332 Hill St      California 94114  \n",
       "3995 23rd St             CA 94114  \n",
       "1056 Sanchez St        California  \n",
       "551 Alvarado St          CA 94114  "
      ]
     },
     "execution_count": 45,
     "metadata": {},
     "output_type": "execute_result"
    }
   ],
   "source": [
    "df7\n"
   ]
  },
  {
   "cell_type": "code",
   "execution_count": 47,
   "metadata": {
    "collapsed": false
   },
   "outputs": [
    {
     "data": {
      "text/plain": [
       "Index(['City', 'Country', 'Employees', 'ID', 'Name', 'State'], dtype='object')"
      ]
     },
     "execution_count": 47,
     "metadata": {},
     "output_type": "execute_result"
    }
   ],
   "source": [
    "df7.columns\n"
   ]
  },
  {
   "cell_type": "code",
   "execution_count": 48,
   "metadata": {
    "collapsed": true
   },
   "outputs": [],
   "source": [
    "df7[\"Continent\"]=df7.shape[0]*[\"North America\"]"
   ]
  },
  {
   "cell_type": "code",
   "execution_count": 49,
   "metadata": {
    "collapsed": false
   },
   "outputs": [
    {
     "data": {
      "text/html": [
       "<div>\n",
       "<table border=\"1\" class=\"dataframe\">\n",
       "  <thead>\n",
       "    <tr style=\"text-align: right;\">\n",
       "      <th></th>\n",
       "      <th>City</th>\n",
       "      <th>Country</th>\n",
       "      <th>Employees</th>\n",
       "      <th>ID</th>\n",
       "      <th>Name</th>\n",
       "      <th>State</th>\n",
       "      <th>Continent</th>\n",
       "    </tr>\n",
       "    <tr>\n",
       "      <th>Address</th>\n",
       "      <th></th>\n",
       "      <th></th>\n",
       "      <th></th>\n",
       "      <th></th>\n",
       "      <th></th>\n",
       "      <th></th>\n",
       "      <th></th>\n",
       "    </tr>\n",
       "  </thead>\n",
       "  <tbody>\n",
       "    <tr>\n",
       "      <th>3666 21st St</th>\n",
       "      <td>San Francisco</td>\n",
       "      <td>USA</td>\n",
       "      <td>8</td>\n",
       "      <td>1</td>\n",
       "      <td>Madeira</td>\n",
       "      <td>CA 94114</td>\n",
       "      <td>North America</td>\n",
       "    </tr>\n",
       "    <tr>\n",
       "      <th>735 Dolores St</th>\n",
       "      <td>San Francisco</td>\n",
       "      <td>USA</td>\n",
       "      <td>15</td>\n",
       "      <td>2</td>\n",
       "      <td>Bready Shop</td>\n",
       "      <td>CA 94119</td>\n",
       "      <td>North America</td>\n",
       "    </tr>\n",
       "    <tr>\n",
       "      <th>332 Hill St</th>\n",
       "      <td>San Francisco</td>\n",
       "      <td>USA</td>\n",
       "      <td>25</td>\n",
       "      <td>3</td>\n",
       "      <td>Super River</td>\n",
       "      <td>California 94114</td>\n",
       "      <td>North America</td>\n",
       "    </tr>\n",
       "    <tr>\n",
       "      <th>3995 23rd St</th>\n",
       "      <td>San Francisco</td>\n",
       "      <td>USA</td>\n",
       "      <td>10</td>\n",
       "      <td>4</td>\n",
       "      <td>Ben's Shop</td>\n",
       "      <td>CA 94114</td>\n",
       "      <td>North America</td>\n",
       "    </tr>\n",
       "    <tr>\n",
       "      <th>1056 Sanchez St</th>\n",
       "      <td>San Francisco</td>\n",
       "      <td>USA</td>\n",
       "      <td>12</td>\n",
       "      <td>5</td>\n",
       "      <td>Sanchez</td>\n",
       "      <td>California</td>\n",
       "      <td>North America</td>\n",
       "    </tr>\n",
       "    <tr>\n",
       "      <th>551 Alvarado St</th>\n",
       "      <td>San Francisco</td>\n",
       "      <td>USA</td>\n",
       "      <td>20</td>\n",
       "      <td>6</td>\n",
       "      <td>Richvalley</td>\n",
       "      <td>CA 94114</td>\n",
       "      <td>North America</td>\n",
       "    </tr>\n",
       "  </tbody>\n",
       "</table>\n",
       "</div>"
      ],
      "text/plain": [
       "                          City Country  Employees  ID         Name  \\\n",
       "Address                                                              \n",
       "3666 21st St     San Francisco     USA          8   1      Madeira   \n",
       "735 Dolores St   San Francisco     USA         15   2  Bready Shop   \n",
       "332 Hill St      San Francisco     USA         25   3  Super River   \n",
       "3995 23rd St     San Francisco     USA         10   4   Ben's Shop   \n",
       "1056 Sanchez St  San Francisco     USA         12   5      Sanchez   \n",
       "551 Alvarado St  San Francisco     USA         20   6   Richvalley   \n",
       "\n",
       "                            State      Continent  \n",
       "Address                                           \n",
       "3666 21st St             CA 94114  North America  \n",
       "735 Dolores St           CA 94119  North America  \n",
       "332 Hill St      California 94114  North America  \n",
       "3995 23rd St             CA 94114  North America  \n",
       "1056 Sanchez St        California  North America  \n",
       "551 Alvarado St          CA 94114  North America  "
      ]
     },
     "execution_count": 49,
     "metadata": {},
     "output_type": "execute_result"
    }
   ],
   "source": [
    "df7"
   ]
  },
  {
   "cell_type": "code",
   "execution_count": 50,
   "metadata": {
    "collapsed": true
   },
   "outputs": [],
   "source": [
    "df7[\"continent\"]=df7[\"Country\"]+\",\" + \"North America\""
   ]
  },
  {
   "cell_type": "code",
   "execution_count": 51,
   "metadata": {
    "collapsed": false
   },
   "outputs": [
    {
     "data": {
      "text/html": [
       "<div>\n",
       "<table border=\"1\" class=\"dataframe\">\n",
       "  <thead>\n",
       "    <tr style=\"text-align: right;\">\n",
       "      <th></th>\n",
       "      <th>City</th>\n",
       "      <th>Country</th>\n",
       "      <th>Employees</th>\n",
       "      <th>ID</th>\n",
       "      <th>Name</th>\n",
       "      <th>State</th>\n",
       "      <th>Continent</th>\n",
       "      <th>continent</th>\n",
       "    </tr>\n",
       "    <tr>\n",
       "      <th>Address</th>\n",
       "      <th></th>\n",
       "      <th></th>\n",
       "      <th></th>\n",
       "      <th></th>\n",
       "      <th></th>\n",
       "      <th></th>\n",
       "      <th></th>\n",
       "      <th></th>\n",
       "    </tr>\n",
       "  </thead>\n",
       "  <tbody>\n",
       "    <tr>\n",
       "      <th>3666 21st St</th>\n",
       "      <td>San Francisco</td>\n",
       "      <td>USA</td>\n",
       "      <td>8</td>\n",
       "      <td>1</td>\n",
       "      <td>Madeira</td>\n",
       "      <td>CA 94114</td>\n",
       "      <td>North America</td>\n",
       "      <td>USA,North America</td>\n",
       "    </tr>\n",
       "    <tr>\n",
       "      <th>735 Dolores St</th>\n",
       "      <td>San Francisco</td>\n",
       "      <td>USA</td>\n",
       "      <td>15</td>\n",
       "      <td>2</td>\n",
       "      <td>Bready Shop</td>\n",
       "      <td>CA 94119</td>\n",
       "      <td>North America</td>\n",
       "      <td>USA,North America</td>\n",
       "    </tr>\n",
       "    <tr>\n",
       "      <th>332 Hill St</th>\n",
       "      <td>San Francisco</td>\n",
       "      <td>USA</td>\n",
       "      <td>25</td>\n",
       "      <td>3</td>\n",
       "      <td>Super River</td>\n",
       "      <td>California 94114</td>\n",
       "      <td>North America</td>\n",
       "      <td>USA,North America</td>\n",
       "    </tr>\n",
       "    <tr>\n",
       "      <th>3995 23rd St</th>\n",
       "      <td>San Francisco</td>\n",
       "      <td>USA</td>\n",
       "      <td>10</td>\n",
       "      <td>4</td>\n",
       "      <td>Ben's Shop</td>\n",
       "      <td>CA 94114</td>\n",
       "      <td>North America</td>\n",
       "      <td>USA,North America</td>\n",
       "    </tr>\n",
       "    <tr>\n",
       "      <th>1056 Sanchez St</th>\n",
       "      <td>San Francisco</td>\n",
       "      <td>USA</td>\n",
       "      <td>12</td>\n",
       "      <td>5</td>\n",
       "      <td>Sanchez</td>\n",
       "      <td>California</td>\n",
       "      <td>North America</td>\n",
       "      <td>USA,North America</td>\n",
       "    </tr>\n",
       "    <tr>\n",
       "      <th>551 Alvarado St</th>\n",
       "      <td>San Francisco</td>\n",
       "      <td>USA</td>\n",
       "      <td>20</td>\n",
       "      <td>6</td>\n",
       "      <td>Richvalley</td>\n",
       "      <td>CA 94114</td>\n",
       "      <td>North America</td>\n",
       "      <td>USA,North America</td>\n",
       "    </tr>\n",
       "  </tbody>\n",
       "</table>\n",
       "</div>"
      ],
      "text/plain": [
       "                          City Country  Employees  ID         Name  \\\n",
       "Address                                                              \n",
       "3666 21st St     San Francisco     USA          8   1      Madeira   \n",
       "735 Dolores St   San Francisco     USA         15   2  Bready Shop   \n",
       "332 Hill St      San Francisco     USA         25   3  Super River   \n",
       "3995 23rd St     San Francisco     USA         10   4   Ben's Shop   \n",
       "1056 Sanchez St  San Francisco     USA         12   5      Sanchez   \n",
       "551 Alvarado St  San Francisco     USA         20   6   Richvalley   \n",
       "\n",
       "                            State      Continent          continent  \n",
       "Address                                                              \n",
       "3666 21st St             CA 94114  North America  USA,North America  \n",
       "735 Dolores St           CA 94119  North America  USA,North America  \n",
       "332 Hill St      California 94114  North America  USA,North America  \n",
       "3995 23rd St             CA 94114  North America  USA,North America  \n",
       "1056 Sanchez St        California  North America  USA,North America  \n",
       "551 Alvarado St          CA 94114  North America  USA,North America  "
      ]
     },
     "execution_count": 51,
     "metadata": {},
     "output_type": "execute_result"
    }
   ],
   "source": [
    "df7"
   ]
  },
  {
   "cell_type": "code",
   "execution_count": 53,
   "metadata": {
    "collapsed": true
   },
   "outputs": [],
   "source": [
    "df7_t=df7.T"
   ]
  },
  {
   "cell_type": "code",
   "execution_count": null,
   "metadata": {
    "collapsed": true
   },
   "outputs": [],
   "source": []
  },
  {
   "cell_type": "code",
   "execution_count": 54,
   "metadata": {
    "collapsed": false
   },
   "outputs": [
    {
     "data": {
      "text/html": [
       "<div>\n",
       "<table border=\"1\" class=\"dataframe\">\n",
       "  <thead>\n",
       "    <tr style=\"text-align: right;\">\n",
       "      <th>Address</th>\n",
       "      <th>3666 21st St</th>\n",
       "      <th>735 Dolores St</th>\n",
       "      <th>332 Hill St</th>\n",
       "      <th>3995 23rd St</th>\n",
       "      <th>1056 Sanchez St</th>\n",
       "      <th>551 Alvarado St</th>\n",
       "    </tr>\n",
       "  </thead>\n",
       "  <tbody>\n",
       "    <tr>\n",
       "      <th>City</th>\n",
       "      <td>San Francisco</td>\n",
       "      <td>San Francisco</td>\n",
       "      <td>San Francisco</td>\n",
       "      <td>San Francisco</td>\n",
       "      <td>San Francisco</td>\n",
       "      <td>San Francisco</td>\n",
       "    </tr>\n",
       "    <tr>\n",
       "      <th>Country</th>\n",
       "      <td>USA</td>\n",
       "      <td>USA</td>\n",
       "      <td>USA</td>\n",
       "      <td>USA</td>\n",
       "      <td>USA</td>\n",
       "      <td>USA</td>\n",
       "    </tr>\n",
       "    <tr>\n",
       "      <th>Employees</th>\n",
       "      <td>8</td>\n",
       "      <td>15</td>\n",
       "      <td>25</td>\n",
       "      <td>10</td>\n",
       "      <td>12</td>\n",
       "      <td>20</td>\n",
       "    </tr>\n",
       "    <tr>\n",
       "      <th>ID</th>\n",
       "      <td>1</td>\n",
       "      <td>2</td>\n",
       "      <td>3</td>\n",
       "      <td>4</td>\n",
       "      <td>5</td>\n",
       "      <td>6</td>\n",
       "    </tr>\n",
       "    <tr>\n",
       "      <th>Name</th>\n",
       "      <td>Madeira</td>\n",
       "      <td>Bready Shop</td>\n",
       "      <td>Super River</td>\n",
       "      <td>Ben's Shop</td>\n",
       "      <td>Sanchez</td>\n",
       "      <td>Richvalley</td>\n",
       "    </tr>\n",
       "    <tr>\n",
       "      <th>State</th>\n",
       "      <td>CA 94114</td>\n",
       "      <td>CA 94119</td>\n",
       "      <td>California 94114</td>\n",
       "      <td>CA 94114</td>\n",
       "      <td>California</td>\n",
       "      <td>CA 94114</td>\n",
       "    </tr>\n",
       "    <tr>\n",
       "      <th>Continent</th>\n",
       "      <td>North America</td>\n",
       "      <td>North America</td>\n",
       "      <td>North America</td>\n",
       "      <td>North America</td>\n",
       "      <td>North America</td>\n",
       "      <td>North America</td>\n",
       "    </tr>\n",
       "    <tr>\n",
       "      <th>continent</th>\n",
       "      <td>USA,North America</td>\n",
       "      <td>USA,North America</td>\n",
       "      <td>USA,North America</td>\n",
       "      <td>USA,North America</td>\n",
       "      <td>USA,North America</td>\n",
       "      <td>USA,North America</td>\n",
       "    </tr>\n",
       "  </tbody>\n",
       "</table>\n",
       "</div>"
      ],
      "text/plain": [
       "Address         3666 21st St     735 Dolores St        332 Hill St  \\\n",
       "City           San Francisco      San Francisco      San Francisco   \n",
       "Country                  USA                USA                USA   \n",
       "Employees                  8                 15                 25   \n",
       "ID                         1                  2                  3   \n",
       "Name                 Madeira        Bready Shop        Super River   \n",
       "State               CA 94114           CA 94119   California 94114   \n",
       "Continent      North America      North America      North America   \n",
       "continent  USA,North America  USA,North America  USA,North America   \n",
       "\n",
       "Address         3995 23rd St    1056 Sanchez St    551 Alvarado St  \n",
       "City           San Francisco      San Francisco      San Francisco  \n",
       "Country                  USA                USA                USA  \n",
       "Employees                 10                 12                 20  \n",
       "ID                         4                  5                  6  \n",
       "Name              Ben's Shop            Sanchez         Richvalley  \n",
       "State               CA 94114         California           CA 94114  \n",
       "Continent      North America      North America      North America  \n",
       "continent  USA,North America  USA,North America  USA,North America  "
      ]
     },
     "execution_count": 54,
     "metadata": {},
     "output_type": "execute_result"
    }
   ],
   "source": [
    "df7_t"
   ]
  },
  {
   "cell_type": "code",
   "execution_count": null,
   "metadata": {
    "collapsed": true
   },
   "outputs": [],
   "source": []
  },
  {
   "cell_type": "code",
   "execution_count": null,
   "metadata": {
    "collapsed": true
   },
   "outputs": [],
   "source": []
  },
  {
   "cell_type": "code",
   "execution_count": null,
   "metadata": {
    "collapsed": true
   },
   "outputs": [],
   "source": []
  },
  {
   "cell_type": "code",
   "execution_count": null,
   "metadata": {
    "collapsed": true
   },
   "outputs": [],
   "source": []
  },
  {
   "cell_type": "code",
   "execution_count": null,
   "metadata": {
    "collapsed": true
   },
   "outputs": [],
   "source": []
  },
  {
   "cell_type": "code",
   "execution_count": null,
   "metadata": {
    "collapsed": true
   },
   "outputs": [],
   "source": []
  },
  {
   "cell_type": "code",
   "execution_count": null,
   "metadata": {
    "collapsed": true
   },
   "outputs": [],
   "source": []
  },
  {
   "cell_type": "code",
   "execution_count": null,
   "metadata": {
    "collapsed": true
   },
   "outputs": [],
   "source": []
  },
  {
   "cell_type": "code",
   "execution_count": 23,
   "metadata": {
    "collapsed": true
   },
   "outputs": [
    {
     "data": {
      "text/html": [
       "<div>\n",
       "<table border=\"1\" class=\"dataframe\">\n",
       "  <thead>\n",
       "    <tr style=\"text-align: right;\">\n",
       "      <th></th>\n",
       "      <th>Address</th>\n",
       "      <th>City</th>\n",
       "      <th>State</th>\n",
       "      <th>Country</th>\n",
       "      <th>Name</th>\n",
       "      <th>Employees</th>\n",
       "    </tr>\n",
       "    <tr>\n",
       "      <th>ID</th>\n",
       "      <th></th>\n",
       "      <th></th>\n",
       "      <th></th>\n",
       "      <th></th>\n",
       "      <th></th>\n",
       "      <th></th>\n",
       "    </tr>\n",
       "  </thead>\n",
       "  <tbody>\n",
       "    <tr>\n",
       "      <th>1</th>\n",
       "      <td>3666 21st St</td>\n",
       "      <td>San Francisco</td>\n",
       "      <td>CA 94114</td>\n",
       "      <td>USA</td>\n",
       "      <td>Madeira</td>\n",
       "      <td>8</td>\n",
       "    </tr>\n",
       "    <tr>\n",
       "      <th>2</th>\n",
       "      <td>735 Dolores St</td>\n",
       "      <td>San Francisco</td>\n",
       "      <td>CA 94119</td>\n",
       "      <td>USA</td>\n",
       "      <td>Bready Shop</td>\n",
       "      <td>15</td>\n",
       "    </tr>\n",
       "    <tr>\n",
       "      <th>3</th>\n",
       "      <td>332 Hill St</td>\n",
       "      <td>San Francisco</td>\n",
       "      <td>California 94114</td>\n",
       "      <td>USA</td>\n",
       "      <td>Super River</td>\n",
       "      <td>25</td>\n",
       "    </tr>\n",
       "    <tr>\n",
       "      <th>4</th>\n",
       "      <td>3995 23rd St</td>\n",
       "      <td>San Francisco</td>\n",
       "      <td>CA 94114</td>\n",
       "      <td>USA</td>\n",
       "      <td>Ben's Shop</td>\n",
       "      <td>10</td>\n",
       "    </tr>\n",
       "    <tr>\n",
       "      <th>5</th>\n",
       "      <td>1056 Sanchez St</td>\n",
       "      <td>San Francisco</td>\n",
       "      <td>California</td>\n",
       "      <td>USA</td>\n",
       "      <td>Sanchez</td>\n",
       "      <td>12</td>\n",
       "    </tr>\n",
       "    <tr>\n",
       "      <th>6</th>\n",
       "      <td>551 Alvarado St</td>\n",
       "      <td>San Francisco</td>\n",
       "      <td>CA 94114</td>\n",
       "      <td>USA</td>\n",
       "      <td>Richvalley</td>\n",
       "      <td>20</td>\n",
       "    </tr>\n",
       "  </tbody>\n",
       "</table>\n",
       "</div>"
      ],
      "text/plain": [
       "            Address           City             State Country         Name  \\\n",
       "ID                                                                          \n",
       "1      3666 21st St  San Francisco          CA 94114     USA      Madeira   \n",
       "2    735 Dolores St  San Francisco          CA 94119     USA  Bready Shop   \n",
       "3       332 Hill St  San Francisco  California 94114     USA  Super River   \n",
       "4      3995 23rd St  San Francisco          CA 94114     USA   Ben's Shop   \n",
       "5   1056 Sanchez St  San Francisco        California     USA      Sanchez   \n",
       "6   551 Alvarado St  San Francisco          CA 94114     USA   Richvalley   \n",
       "\n",
       "    Employees  \n",
       "ID             \n",
       "1           8  \n",
       "2          15  \n",
       "3          25  \n",
       "4          10  \n",
       "5          12  \n",
       "6          20  "
      ]
     },
     "execution_count": 23,
     "metadata": {},
     "output_type": "execute_result"
    }
   ],
   "source": [
    " \n"
   ]
  },
  {
   "cell_type": "code",
   "execution_count": null,
   "metadata": {
    "collapsed": true
   },
   "outputs": [],
   "source": []
  },
  {
   "cell_type": "code",
   "execution_count": null,
   "metadata": {
    "collapsed": true
   },
   "outputs": [],
   "source": []
  },
  {
   "cell_type": "code",
   "execution_count": null,
   "metadata": {
    "collapsed": true
   },
   "outputs": [],
   "source": []
  },
  {
   "cell_type": "code",
   "execution_count": 19,
   "metadata": {
    "collapsed": true
   },
   "outputs": [],
   "source": []
  },
  {
   "cell_type": "code",
   "execution_count": null,
   "metadata": {
    "collapsed": true
   },
   "outputs": [],
   "source": []
  },
  {
   "cell_type": "code",
   "execution_count": null,
   "metadata": {
    "collapsed": true
   },
   "outputs": [],
   "source": []
  },
  {
   "cell_type": "code",
   "execution_count": null,
   "metadata": {
    "collapsed": true
   },
   "outputs": [],
   "source": []
  },
  {
   "cell_type": "code",
   "execution_count": null,
   "metadata": {
    "collapsed": true
   },
   "outputs": [],
   "source": []
  },
  {
   "cell_type": "code",
   "execution_count": null,
   "metadata": {
    "collapsed": true
   },
   "outputs": [],
   "source": []
  },
  {
   "cell_type": "code",
   "execution_count": null,
   "metadata": {
    "collapsed": true
   },
   "outputs": [],
   "source": []
  },
  {
   "cell_type": "code",
   "execution_count": null,
   "metadata": {
    "collapsed": true
   },
   "outputs": [],
   "source": []
  },
  {
   "cell_type": "code",
   "execution_count": null,
   "metadata": {
    "collapsed": true
   },
   "outputs": [],
   "source": []
  },
  {
   "cell_type": "code",
   "execution_count": null,
   "metadata": {
    "collapsed": true
   },
   "outputs": [],
   "source": []
  },
  {
   "cell_type": "code",
   "execution_count": null,
   "metadata": {
    "collapsed": true
   },
   "outputs": [],
   "source": []
  },
  {
   "cell_type": "code",
   "execution_count": null,
   "metadata": {
    "collapsed": true
   },
   "outputs": [],
   "source": []
  },
  {
   "cell_type": "code",
   "execution_count": null,
   "metadata": {
    "collapsed": true
   },
   "outputs": [],
   "source": []
  }
 ],
 "metadata": {
  "kernelspec": {
   "display_name": "Python 3",
   "language": "python",
   "name": "python3"
  },
  "language_info": {
   "codemirror_mode": {
    "name": "ipython",
    "version": 3
   },
   "file_extension": ".py",
   "mimetype": "text/x-python",
   "name": "python",
   "nbconvert_exporter": "python",
   "pygments_lexer": "ipython3",
   "version": "3.4.5"
  }
 },
 "nbformat": 4,
 "nbformat_minor": 2
}
